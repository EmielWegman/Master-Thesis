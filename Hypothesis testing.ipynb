{
 "cells": [
  {
   "cell_type": "markdown",
   "metadata": {},
   "source": [
    "# Researching the performance effects of offering services within different lifecycle contexts"
   ]
  },
  {
   "cell_type": "markdown",
   "metadata": {},
   "source": [
    "This notebook presents analyses that I performed for my master thesis. For my study I conducted the following hypotheses: \n",
    "\n",
    "H1: Product-oriented servitization has a significant inverted U-shape relationship to firm performance in the early phases of the industry lifecycle\n",
    "\n",
    "H2a: Product-oriented servitization has a significant negative relationship with firm performance in the mature industry lifecycle phase\n",
    "\n",
    "H2b: Customer-oriented servitization has a significant inverted U-shape relationship with firm performance in the mature phase of the industry lifecycle\n",
    "\n",
    "H3: The relationship between general servitization and firm performance is negatively moderated by the average length of product lifecycles within a firm’s industry, in such way that firm performance positively increases when product lifecycle lengths are short\n",
    "\n",
    "To be able to understand the meaning of my hypotheses it is important to take notice of the definitions of concepts: \n",
    "Product-oriented servicitization is the extend to which manufacturing companies offer services that are performed on the product, such as repair.\n",
    "Customer-oriented servitization is the extend to which manufacturing companies offer services that are performed on the customer, such as consultancy services. \n",
    "Servitization is the extend to which manufacturing companies offer services in general (both PO- and CO-services).\n",
    "Industry lifecycle is the lifecycle of an industry, starting with growth until it reaches a peak and matures. \n",
    "Product lifecycle length is the average time that products in a specific industry are sold. E.g. aerospace industry have longer PLC_length compared to the computer industry. \n",
    "Firm performance in this study is measured by profit as EBITDA margin. \n",
    "\n"
   ]
  },
  {
   "cell_type": "code",
   "execution_count": 80,
   "metadata": {},
   "outputs": [],
   "source": [
    "import pandas as pd \n",
    "import numpy as np \n",
    "import seaborn as sns\n",
    "import matplotlib.pyplot as plt \n",
    "from scipy.stats import pearsonr\n",
    "import statsmodels.api as sm #Importing all necessary libraries"
   ]
  },
  {
   "cell_type": "markdown",
   "metadata": {},
   "source": [
    "## Importing and cleaning dataframe"
   ]
  },
  {
   "cell_type": "markdown",
   "metadata": {},
   "source": [
    "In this part, I import the final dataframe that I used for hypotheses testing during my thesis. I gathered all the data from the Compustat and Patentsview databases. After that I performed most of the data cleaning and feature engineering in another software programme. Many of the features in this dataframe are not longer necessary for my hypotheses testing, therefore I remove these features first. At last I split my dataframe into two, dfEarly includes all companies in the early industry lifecycle and dfMature includes all companies in the mature industry lifecycle. "
   ]
  },
  {
   "cell_type": "code",
   "execution_count": 81,
   "metadata": {},
   "outputs": [],
   "source": [
    "df = pd.read_csv('Dataset_thesis_30062020.csv', sep=\";\", decimal='.').set_index('ID').sort_index() #creating dataframe from thesis dataset"
   ]
  },
  {
   "cell_type": "code",
   "execution_count": 82,
   "metadata": {},
   "outputs": [
    {
     "data": {
      "text/html": [
       "<div>\n",
       "<style scoped>\n",
       "    .dataframe tbody tr th:only-of-type {\n",
       "        vertical-align: middle;\n",
       "    }\n",
       "\n",
       "    .dataframe tbody tr th {\n",
       "        vertical-align: top;\n",
       "    }\n",
       "\n",
       "    .dataframe thead th {\n",
       "        text-align: right;\n",
       "    }\n",
       "</style>\n",
       "<table border=\"1\" class=\"dataframe\">\n",
       "  <thead>\n",
       "    <tr style=\"text-align: right;\">\n",
       "      <th></th>\n",
       "      <th>conm</th>\n",
       "      <th>sic</th>\n",
       "      <th>gvkey</th>\n",
       "      <th>Year</th>\n",
       "      <th>Product_Srev</th>\n",
       "      <th>PO_servRev</th>\n",
       "      <th>CO_servRev</th>\n",
       "      <th>EBITDA</th>\n",
       "      <th>EMPL</th>\n",
       "      <th>Tot_Rev</th>\n",
       "      <th>...</th>\n",
       "      <th>DummyCOserv</th>\n",
       "      <th>Ebitda_Mrgn</th>\n",
       "      <th>IND_maturity_Mrgn</th>\n",
       "      <th>PLC_phase</th>\n",
       "      <th>DummyMaturity</th>\n",
       "      <th>CO_SQRDservitization</th>\n",
       "      <th>PO_SQRDservitization</th>\n",
       "      <th>Dummy_empl</th>\n",
       "      <th>filter_$</th>\n",
       "      <th>Gen_SQRDservitization</th>\n",
       "    </tr>\n",
       "    <tr>\n",
       "      <th>ID</th>\n",
       "      <th></th>\n",
       "      <th></th>\n",
       "      <th></th>\n",
       "      <th></th>\n",
       "      <th></th>\n",
       "      <th></th>\n",
       "      <th></th>\n",
       "      <th></th>\n",
       "      <th></th>\n",
       "      <th></th>\n",
       "      <th></th>\n",
       "      <th></th>\n",
       "      <th></th>\n",
       "      <th></th>\n",
       "      <th></th>\n",
       "      <th></th>\n",
       "      <th></th>\n",
       "      <th></th>\n",
       "      <th></th>\n",
       "      <th></th>\n",
       "      <th></th>\n",
       "    </tr>\n",
       "  </thead>\n",
       "  <tbody>\n",
       "    <tr>\n",
       "      <th>13</th>\n",
       "      <td>ACTIVISION BLIZZARD INC</td>\n",
       "      <td>7372</td>\n",
       "      <td>180405</td>\n",
       "      <td>12/31/2011</td>\n",
       "      <td>4071</td>\n",
       "      <td>0</td>\n",
       "      <td>418</td>\n",
       "      <td>1771</td>\n",
       "      <td>7,3</td>\n",
       "      <td>4755</td>\n",
       "      <td>...</td>\n",
       "      <td>1</td>\n",
       "      <td>37,2450052576236</td>\n",
       "      <td>-4,07407407407407</td>\n",
       "      <td>1</td>\n",
       "      <td>1</td>\n",
       "      <td>86,7068387907551</td>\n",
       "      <td>0</td>\n",
       "      <td>10</td>\n",
       "      <td>1</td>\n",
       "      <td>86,7068387907551</td>\n",
       "    </tr>\n",
       "    <tr>\n",
       "      <th>14</th>\n",
       "      <td>ACTIVISION BLIZZARD INC</td>\n",
       "      <td>7372</td>\n",
       "      <td>180405</td>\n",
       "      <td>12/31/2012</td>\n",
       "      <td>4681</td>\n",
       "      <td>0</td>\n",
       "      <td>306</td>\n",
       "      <td>1776</td>\n",
       "      <td>6,7</td>\n",
       "      <td>4856</td>\n",
       "      <td>...</td>\n",
       "      <td>1</td>\n",
       "      <td>36,5733113673806</td>\n",
       "      <td>-1,15830115830116</td>\n",
       "      <td>1</td>\n",
       "      <td>1</td>\n",
       "      <td>37,6499250970108</td>\n",
       "      <td>0</td>\n",
       "      <td>10</td>\n",
       "      <td>1</td>\n",
       "      <td>37,6499250970108</td>\n",
       "    </tr>\n",
       "    <tr>\n",
       "      <th>15</th>\n",
       "      <td>ACTIVISION BLIZZARD INC</td>\n",
       "      <td>7372</td>\n",
       "      <td>180405</td>\n",
       "      <td>12/31/2013</td>\n",
       "      <td>4019</td>\n",
       "      <td>0</td>\n",
       "      <td>323</td>\n",
       "      <td>1675</td>\n",
       "      <td>6,9</td>\n",
       "      <td>4583</td>\n",
       "      <td>...</td>\n",
       "      <td>1</td>\n",
       "      <td>36,5481125900065</td>\n",
       "      <td>-5,078125</td>\n",
       "      <td>1</td>\n",
       "      <td>1</td>\n",
       "      <td>55,3382481396559</td>\n",
       "      <td>0</td>\n",
       "      <td>10</td>\n",
       "      <td>1</td>\n",
       "      <td>55,3382481396559</td>\n",
       "    </tr>\n",
       "    <tr>\n",
       "      <th>16</th>\n",
       "      <td>ACTIVISION BLIZZARD INC</td>\n",
       "      <td>7372</td>\n",
       "      <td>180405</td>\n",
       "      <td>12/31/2014</td>\n",
       "      <td>4406</td>\n",
       "      <td>0</td>\n",
       "      <td>407</td>\n",
       "      <td>1544</td>\n",
       "      <td>6,8</td>\n",
       "      <td>4408</td>\n",
       "      <td>...</td>\n",
       "      <td>1</td>\n",
       "      <td>35,02722323049</td>\n",
       "      <td>-7,40740740740741</td>\n",
       "      <td>1</td>\n",
       "      <td>1</td>\n",
       "      <td>71,5084056447475</td>\n",
       "      <td>0</td>\n",
       "      <td>10</td>\n",
       "      <td>1</td>\n",
       "      <td>71,5084056447475</td>\n",
       "    </tr>\n",
       "    <tr>\n",
       "      <th>17</th>\n",
       "      <td>ACTIVISION BLIZZARD INC</td>\n",
       "      <td>7372</td>\n",
       "      <td>180405</td>\n",
       "      <td>12/31/2015</td>\n",
       "      <td>4621</td>\n",
       "      <td>0</td>\n",
       "      <td>0</td>\n",
       "      <td>1829</td>\n",
       "      <td>7,3</td>\n",
       "      <td>4664</td>\n",
       "      <td>...</td>\n",
       "      <td>1</td>\n",
       "      <td>39,2152658662093</td>\n",
       "      <td>-12</td>\n",
       "      <td>2</td>\n",
       "      <td>1</td>\n",
       "      <td>0</td>\n",
       "      <td>0</td>\n",
       "      <td>10</td>\n",
       "      <td>1</td>\n",
       "      <td>0</td>\n",
       "    </tr>\n",
       "  </tbody>\n",
       "</table>\n",
       "<p>5 rows × 29 columns</p>\n",
       "</div>"
      ],
      "text/plain": [
       "                       conm   sic   gvkey        Year Product_Srev  \\\n",
       "ID                                                                   \n",
       "13  ACTIVISION BLIZZARD INC  7372  180405  12/31/2011         4071   \n",
       "14  ACTIVISION BLIZZARD INC  7372  180405  12/31/2012         4681   \n",
       "15  ACTIVISION BLIZZARD INC  7372  180405  12/31/2013         4019   \n",
       "16  ACTIVISION BLIZZARD INC  7372  180405  12/31/2014         4406   \n",
       "17  ACTIVISION BLIZZARD INC  7372  180405  12/31/2015         4621   \n",
       "\n",
       "    PO_servRev  CO_servRev EBITDA EMPL Tot_Rev  ... DummyCOserv  \\\n",
       "ID                                              ...               \n",
       "13           0         418   1771  7,3    4755  ...           1   \n",
       "14           0         306   1776  6,7    4856  ...           1   \n",
       "15           0         323   1675  6,9    4583  ...           1   \n",
       "16           0         407   1544  6,8    4408  ...           1   \n",
       "17           0           0   1829  7,3    4664  ...           1   \n",
       "\n",
       "         Ebitda_Mrgn  IND_maturity_Mrgn PLC_phase DummyMaturity  \\\n",
       "ID                                                                \n",
       "13  37,2450052576236  -4,07407407407407         1             1   \n",
       "14  36,5733113673806  -1,15830115830116         1             1   \n",
       "15  36,5481125900065          -5,078125         1             1   \n",
       "16    35,02722323049  -7,40740740740741         1             1   \n",
       "17  39,2152658662093                -12         2             1   \n",
       "\n",
       "   CO_SQRDservitization PO_SQRDservitization  Dummy_empl filter_$  \\\n",
       "ID                                                                  \n",
       "13     86,7068387907551                    0          10        1   \n",
       "14     37,6499250970108                    0          10        1   \n",
       "15     55,3382481396559                    0          10        1   \n",
       "16     71,5084056447475                    0          10        1   \n",
       "17                    0                    0          10        1   \n",
       "\n",
       "    Gen_SQRDservitization  \n",
       "ID                         \n",
       "13       86,7068387907551  \n",
       "14       37,6499250970108  \n",
       "15       55,3382481396559  \n",
       "16       71,5084056447475  \n",
       "17                      0  \n",
       "\n",
       "[5 rows x 29 columns]"
      ]
     },
     "execution_count": 82,
     "metadata": {},
     "output_type": "execute_result"
    }
   ],
   "source": [
    "df.head()"
   ]
  },
  {
   "cell_type": "code",
   "execution_count": 83,
   "metadata": {},
   "outputs": [],
   "source": [
    "del df['sic']\n",
    "del df['gvkey']\n",
    "del df['Product_Srev']\n",
    "del df['PO_servRev']\n",
    "del df['CO_servRev']\n",
    "del df['EBITDA']\n",
    "del df['Tot_Rev']\n",
    "del df['Tot_Srev']\n",
    "del df['Act_F_Ind']\n",
    "del df['Diff_Act_F_IND']\n",
    "del df['Dummy_empl']\n",
    "del df['IND_maturity_Mrgn'] # delete all features that are not relevant for hypothesis testing."
   ]
  },
  {
   "cell_type": "code",
   "execution_count": 84,
   "metadata": {},
   "outputs": [],
   "source": [
    "df['EMPL'] = df['EMPL'].apply(lambda x: x.replace(',','.'))\n",
    "df['PLC_Length'] = df['PLC_Length'].apply(lambda x: x.replace(',','.'))\n",
    "df['AvgIND_EBITDAmargn'] = df['AvgIND_EBITDAmargn'].apply(lambda x: x.replace(',','.'))\n",
    "df['Gen_servitization'] = df['Gen_servitization'].apply(lambda x: x.replace(',','.'))\n",
    "df['PO_servitization'] = df['PO_servitization'].apply(lambda x: x.replace(',','.'))\n",
    "df['CO_servitization'] = df['CO_servitization'].apply(lambda x: x.replace(',','.'))\n",
    "df['Ebitda_Mrgn'] = df['Ebitda_Mrgn'].apply(lambda x: x.replace(',','.'))\n",
    "df['CO_SQRDservitization'] = df['CO_SQRDservitization'].apply(lambda x: x.replace(',','.'))\n",
    "df['PO_SQRDservitization'] = df['PO_SQRDservitization'].apply(lambda x: x.replace(',','.'))\n",
    "df['Gen_SQRDservitization'] = df['Gen_SQRDservitization'].apply(lambda x: x.replace(',','.')) #change comma to dot as decimal operator"
   ]
  },
  {
   "cell_type": "code",
   "execution_count": 85,
   "metadata": {},
   "outputs": [
    {
     "data": {
      "text/plain": [
       "conm                     object\n",
       "Year                     object\n",
       "EMPL                     object\n",
       "PLC_Length               object\n",
       "AvgIND_EBITDAmargn       object\n",
       "Gen_servitization        object\n",
       "PO_servitization         object\n",
       "DummyPOserv               int64\n",
       "CO_servitization         object\n",
       "DummyCOserv               int64\n",
       "Ebitda_Mrgn              object\n",
       "PLC_phase                 int64\n",
       "DummyMaturity             int64\n",
       "CO_SQRDservitization     object\n",
       "PO_SQRDservitization     object\n",
       "filter_$                  int64\n",
       "Gen_SQRDservitization    object\n",
       "dtype: object"
      ]
     },
     "execution_count": 85,
     "metadata": {},
     "output_type": "execute_result"
    }
   ],
   "source": [
    "df.dtypes #check all existent data tpyes"
   ]
  },
  {
   "cell_type": "code",
   "execution_count": 86,
   "metadata": {},
   "outputs": [],
   "source": [
    "df['conm'] = df['conm'].astype(str)\n",
    "df['Year'] =  pd.to_datetime(df['Year'], infer_datetime_format=True)\n",
    "df['EMPL'] = pd.to_numeric(df['EMPL'], errors='coerce')\n",
    "df['PLC_Length'] = pd.to_numeric(df['PLC_Length'], errors='coerce')\n",
    "df['AvgIND_EBITDAmargn'] = pd.to_numeric(df['AvgIND_EBITDAmargn'], errors='coerce')\n",
    "df['Gen_servitization'] = pd.to_numeric(df['Gen_servitization'], errors='coerce')\n",
    "df['PO_servitization'] = pd.to_numeric(df['PO_servitization'], errors='coerce')\n",
    "df['CO_servitization'] = pd.to_numeric(df['CO_servitization'], errors='coerce')\n",
    "df['Ebitda_Mrgn'] = pd.to_numeric(df['Ebitda_Mrgn'], errors='coerce')\n",
    "df['CO_SQRDservitization'] = pd.to_numeric(df['CO_SQRDservitization'], errors='coerce')\n",
    "df['PO_SQRDservitization'] = pd.to_numeric(df['PO_SQRDservitization'], errors='coerce')\n",
    "df['Gen_SQRDservitization'] = pd.to_numeric(df['Gen_SQRDservitization'], errors='coerce') #change all numeric object data types to correct data type"
   ]
  },
  {
   "cell_type": "code",
   "execution_count": 87,
   "metadata": {},
   "outputs": [
    {
     "data": {
      "text/plain": [
       "conm                             object\n",
       "Year                     datetime64[ns]\n",
       "EMPL                            float64\n",
       "PLC_Length                      float64\n",
       "AvgIND_EBITDAmargn              float64\n",
       "Gen_servitization               float64\n",
       "PO_servitization                float64\n",
       "DummyPOserv                       int64\n",
       "CO_servitization                float64\n",
       "DummyCOserv                       int64\n",
       "Ebitda_Mrgn                     float64\n",
       "PLC_phase                         int64\n",
       "DummyMaturity                     int64\n",
       "CO_SQRDservitization            float64\n",
       "PO_SQRDservitization            float64\n",
       "filter_$                          int64\n",
       "Gen_SQRDservitization           float64\n",
       "dtype: object"
      ]
     },
     "execution_count": 87,
     "metadata": {},
     "output_type": "execute_result"
    }
   ],
   "source": [
    "df.dtypes"
   ]
  },
  {
   "cell_type": "code",
   "execution_count": 88,
   "metadata": {},
   "outputs": [],
   "source": [
    "dfEarly = df[~(df['DummyMaturity'] > 0)]\n",
    "dfMature = df[~(df['DummyMaturity'] < 1)] # split the dataframe in a dataframe for companies in the early industry lifecycle and into a dataframe for companies in the mature industry lifecycle"
   ]
  },
  {
   "cell_type": "markdown",
   "metadata": {},
   "source": [
    "## Correlations"
   ]
  },
  {
   "cell_type": "markdown",
   "metadata": {},
   "source": [
    "In this part I provide the correlations and their significance between the features included in my models for hypotheses testing. AvgIND_EBITDAmargn is significantly correlated and used as a control variable during my hypotheses testing. : \n",
    "\n",
    "Firm yearly performance measured by Ebitda margin = Ebitda_Mrgn.\n",
    "\n",
    "General servitization(both PO- and CO-services) = Gen_servitization.\n",
    "\n",
    "Product-oriented servitization = PO_servitization.\n",
    "\n",
    "Customer-oriented servitization = CO-servitization.\n",
    "\n",
    "Average length of product lifecycle within an industry = PLC_length.\n",
    "\n",
    "Average performance of firms in a particular industry = AvgIND_EBITDAmargn."
   ]
  },
  {
   "cell_type": "code",
   "execution_count": 89,
   "metadata": {},
   "outputs": [],
   "source": [
    "def pearsonr_pval(x,y):\n",
    "    return pearsonr(x,y)[1] #create function to compute the P-value of a correlation "
   ]
  },
  {
   "cell_type": "code",
   "execution_count": 90,
   "metadata": {},
   "outputs": [
    {
     "data": {
      "text/html": [
       "<div>\n",
       "<style scoped>\n",
       "    .dataframe tbody tr th:only-of-type {\n",
       "        vertical-align: middle;\n",
       "    }\n",
       "\n",
       "    .dataframe tbody tr th {\n",
       "        vertical-align: top;\n",
       "    }\n",
       "\n",
       "    .dataframe thead th {\n",
       "        text-align: right;\n",
       "    }\n",
       "</style>\n",
       "<table border=\"1\" class=\"dataframe\">\n",
       "  <thead>\n",
       "    <tr style=\"text-align: right;\">\n",
       "      <th></th>\n",
       "      <th>Ebitda_Mrgn</th>\n",
       "      <th>Gen_servitization</th>\n",
       "      <th>PO_servitization</th>\n",
       "      <th>CO_servitization</th>\n",
       "      <th>PLC_Length</th>\n",
       "      <th>AvgIND_EBITDAmargn</th>\n",
       "    </tr>\n",
       "  </thead>\n",
       "  <tbody>\n",
       "    <tr>\n",
       "      <th>Ebitda_Mrgn</th>\n",
       "      <td>1.0</td>\n",
       "      <td>-0.1</td>\n",
       "      <td>-0.1</td>\n",
       "      <td>-0.0</td>\n",
       "      <td>-0.1**</td>\n",
       "      <td>0.3**</td>\n",
       "    </tr>\n",
       "    <tr>\n",
       "      <th>Gen_servitization</th>\n",
       "      <td>-0.1</td>\n",
       "      <td>1.0</td>\n",
       "      <td>0.9**</td>\n",
       "      <td>0.1**</td>\n",
       "      <td>-0.0</td>\n",
       "      <td>0.1**</td>\n",
       "    </tr>\n",
       "    <tr>\n",
       "      <th>PO_servitization</th>\n",
       "      <td>-0.1</td>\n",
       "      <td>0.9**</td>\n",
       "      <td>1.0</td>\n",
       "      <td>-0.3**</td>\n",
       "      <td>0.1</td>\n",
       "      <td>0.1*</td>\n",
       "    </tr>\n",
       "    <tr>\n",
       "      <th>CO_servitization</th>\n",
       "      <td>-0.0</td>\n",
       "      <td>0.1**</td>\n",
       "      <td>-0.3**</td>\n",
       "      <td>1.0</td>\n",
       "      <td>-0.2**</td>\n",
       "      <td>0.1**</td>\n",
       "    </tr>\n",
       "    <tr>\n",
       "      <th>PLC_Length</th>\n",
       "      <td>-0.1**</td>\n",
       "      <td>-0.0</td>\n",
       "      <td>0.1</td>\n",
       "      <td>-0.2**</td>\n",
       "      <td>1.0</td>\n",
       "      <td>-0.5**</td>\n",
       "    </tr>\n",
       "    <tr>\n",
       "      <th>AvgIND_EBITDAmargn</th>\n",
       "      <td>0.3**</td>\n",
       "      <td>0.1**</td>\n",
       "      <td>0.1*</td>\n",
       "      <td>0.1**</td>\n",
       "      <td>-0.5**</td>\n",
       "      <td>1.0</td>\n",
       "    </tr>\n",
       "  </tbody>\n",
       "</table>\n",
       "</div>"
      ],
      "text/plain": [
       "                   Ebitda_Mrgn Gen_servitization PO_servitization  \\\n",
       "Ebitda_Mrgn                1.0              -0.1             -0.1   \n",
       "Gen_servitization         -0.1               1.0            0.9**   \n",
       "PO_servitization          -0.1             0.9**              1.0   \n",
       "CO_servitization          -0.0             0.1**           -0.3**   \n",
       "PLC_Length              -0.1**              -0.0              0.1   \n",
       "AvgIND_EBITDAmargn       0.3**             0.1**             0.1*   \n",
       "\n",
       "                   CO_servitization PLC_Length AvgIND_EBITDAmargn  \n",
       "Ebitda_Mrgn                    -0.0     -0.1**              0.3**  \n",
       "Gen_servitization             0.1**       -0.0              0.1**  \n",
       "PO_servitization             -0.3**        0.1               0.1*  \n",
       "CO_servitization                1.0     -0.2**              0.1**  \n",
       "PLC_Length                   -0.2**        1.0             -0.5**  \n",
       "AvgIND_EBITDAmargn            0.1**     -0.5**                1.0  "
      ]
     },
     "execution_count": 90,
     "metadata": {},
     "output_type": "execute_result"
    }
   ],
   "source": [
    "c = df[['Ebitda_Mrgn','Gen_servitization', 'PO_servitization', 'CO_servitization', 'PLC_Length', 'AvgIND_EBITDAmargn']]\n",
    "pval = c.corr(method=pearsonr_pval).round(3)\n",
    "c = c.corr().round(1)\n",
    "p = pval.applymap(lambda x: ''.join(['*' for t in [0.01,0.05] if x<=t]))\n",
    "corrTable = c.astype(str) + p\n",
    "corrTable #create a correlation table with *'s as significance indicators"
   ]
  },
  {
   "cell_type": "markdown",
   "metadata": {},
   "source": [
    "The AvgIND_EBITDAmargn is significantly correlated to the dependent variable Ebitda_Mrgn. This variable will be used as a control variable in the analyses, as it controls for differences in competition intensity of all industries in the study's sample."
   ]
  },
  {
   "cell_type": "markdown",
   "metadata": {},
   "source": [
    "## Hypotheses testing"
   ]
  },
  {
   "cell_type": "markdown",
   "metadata": {},
   "source": [
    "In this part I test all my four hypotheses. For each hypothesis I start with a model summary to check for a significant relationship. If a significant relationship is existent I check if the model is better in reducing variance compared to another model (linear vs curvilinear). If this is the case, I accept my hypothesis and start with visualizing my model. For the visualization I fit a slightly different model, because I do not include my control variable, AvgIND_EBITDAmargn. The reason for this is that I want a smooth line as visualization and I already controlled for this variable during my hypothesis test. "
   ]
  },
  {
   "cell_type": "markdown",
   "metadata": {},
   "source": [
    "#### H1"
   ]
  },
  {
   "cell_type": "code",
   "execution_count": 91,
   "metadata": {},
   "outputs": [
    {
     "data": {
      "text/html": [
       "<table class=\"simpletable\">\n",
       "<caption>OLS Regression Results</caption>\n",
       "<tr>\n",
       "  <th>Dep. Variable:</th>       <td>Ebitda_Mrgn</td>   <th>  R-squared:         </th> <td>   0.035</td>\n",
       "</tr>\n",
       "<tr>\n",
       "  <th>Model:</th>                   <td>OLS</td>       <th>  Adj. R-squared:    </th> <td>   0.022</td>\n",
       "</tr>\n",
       "<tr>\n",
       "  <th>Method:</th>             <td>Least Squares</td>  <th>  F-statistic:       </th> <td>   2.667</td>\n",
       "</tr>\n",
       "<tr>\n",
       "  <th>Date:</th>             <td>Fri, 18 Dec 2020</td> <th>  Prob (F-statistic):</th>  <td>0.0487</td> \n",
       "</tr>\n",
       "<tr>\n",
       "  <th>Time:</th>                 <td>15:16:19</td>     <th>  Log-Likelihood:    </th> <td> -776.59</td>\n",
       "</tr>\n",
       "<tr>\n",
       "  <th>No. Observations:</th>      <td>   222</td>      <th>  AIC:               </th> <td>   1561.</td>\n",
       "</tr>\n",
       "<tr>\n",
       "  <th>Df Residuals:</th>          <td>   218</td>      <th>  BIC:               </th> <td>   1575.</td>\n",
       "</tr>\n",
       "<tr>\n",
       "  <th>Df Model:</th>              <td>     3</td>      <th>                     </th>     <td> </td>   \n",
       "</tr>\n",
       "<tr>\n",
       "  <th>Covariance Type:</th>      <td>nonrobust</td>    <th>                     </th>     <td> </td>   \n",
       "</tr>\n",
       "</table>\n",
       "<table class=\"simpletable\">\n",
       "<tr>\n",
       "    <td></td>       <th>coef</th>     <th>std err</th>      <th>t</th>      <th>P>|t|</th>  <th>[0.025</th>    <th>0.975]</th>  \n",
       "</tr>\n",
       "<tr>\n",
       "  <th>const</th> <td>   11.3580</td> <td>    1.509</td> <td>    7.527</td> <td> 0.000</td> <td>    8.384</td> <td>   14.332</td>\n",
       "</tr>\n",
       "<tr>\n",
       "  <th>x1</th>    <td>    0.0863</td> <td>    0.090</td> <td>    0.962</td> <td> 0.337</td> <td>   -0.090</td> <td>    0.263</td>\n",
       "</tr>\n",
       "<tr>\n",
       "  <th>x2</th>    <td>    0.2123</td> <td>    0.090</td> <td>    2.348</td> <td> 0.020</td> <td>    0.034</td> <td>    0.390</td>\n",
       "</tr>\n",
       "<tr>\n",
       "  <th>x3</th>    <td>   -0.0036</td> <td>    0.002</td> <td>   -2.174</td> <td> 0.031</td> <td>   -0.007</td> <td>   -0.000</td>\n",
       "</tr>\n",
       "</table>\n",
       "<table class=\"simpletable\">\n",
       "<tr>\n",
       "  <th>Omnibus:</th>       <td> 5.847</td> <th>  Durbin-Watson:     </th> <td>   0.996</td>\n",
       "</tr>\n",
       "<tr>\n",
       "  <th>Prob(Omnibus):</th> <td> 0.054</td> <th>  Jarque-Bera (JB):  </th> <td>   7.785</td>\n",
       "</tr>\n",
       "<tr>\n",
       "  <th>Skew:</th>          <td>-0.150</td> <th>  Prob(JB):          </th> <td>  0.0204</td>\n",
       "</tr>\n",
       "<tr>\n",
       "  <th>Kurtosis:</th>      <td> 3.867</td> <th>  Cond. No.          </th> <td>2.77e+03</td>\n",
       "</tr>\n",
       "</table><br/><br/>Warnings:<br/>[1] Standard Errors assume that the covariance matrix of the errors is correctly specified.<br/>[2] The condition number is large, 2.77e+03. This might indicate that there are<br/>strong multicollinearity or other numerical problems."
      ],
      "text/plain": [
       "<class 'statsmodels.iolib.summary.Summary'>\n",
       "\"\"\"\n",
       "                            OLS Regression Results                            \n",
       "==============================================================================\n",
       "Dep. Variable:            Ebitda_Mrgn   R-squared:                       0.035\n",
       "Model:                            OLS   Adj. R-squared:                  0.022\n",
       "Method:                 Least Squares   F-statistic:                     2.667\n",
       "Date:                Fri, 18 Dec 2020   Prob (F-statistic):             0.0487\n",
       "Time:                        15:16:19   Log-Likelihood:                -776.59\n",
       "No. Observations:                 222   AIC:                             1561.\n",
       "Df Residuals:                     218   BIC:                             1575.\n",
       "Df Model:                           3                                         \n",
       "Covariance Type:            nonrobust                                         \n",
       "==============================================================================\n",
       "                 coef    std err          t      P>|t|      [0.025      0.975]\n",
       "------------------------------------------------------------------------------\n",
       "const         11.3580      1.509      7.527      0.000       8.384      14.332\n",
       "x1             0.0863      0.090      0.962      0.337      -0.090       0.263\n",
       "x2             0.2123      0.090      2.348      0.020       0.034       0.390\n",
       "x3            -0.0036      0.002     -2.174      0.031      -0.007      -0.000\n",
       "==============================================================================\n",
       "Omnibus:                        5.847   Durbin-Watson:                   0.996\n",
       "Prob(Omnibus):                  0.054   Jarque-Bera (JB):                7.785\n",
       "Skew:                          -0.150   Prob(JB):                       0.0204\n",
       "Kurtosis:                       3.867   Cond. No.                     2.77e+03\n",
       "==============================================================================\n",
       "\n",
       "Warnings:\n",
       "[1] Standard Errors assume that the covariance matrix of the errors is correctly specified.\n",
       "[2] The condition number is large, 2.77e+03. This might indicate that there are\n",
       "strong multicollinearity or other numerical problems.\n",
       "\"\"\""
      ]
     },
     "execution_count": 91,
     "metadata": {},
     "output_type": "execute_result"
    }
   ],
   "source": [
    "X = dfEarly[['AvgIND_EBITDAmargn','PO_servitization','PO_SQRDservitization']]\n",
    "X= X.to_numpy()\n",
    "y= dfEarly['Ebitda_Mrgn']\n",
    "model = sm.OLS(y, sm.add_constant(X)).fit()\n",
    "model.summary() # Testing H1, assuming a curvilinear relationship between PO_servitization and firm performance(EBITDA_Mrgn) in the early industry lifecycle. "
   ]
  },
  {
   "cell_type": "markdown",
   "metadata": {},
   "source": [
    "#### X3 (the squared PO-servitization feature) indicates that a negative curvilinear relationship(inverted-U) between PO_servitization and firm performance is existent and significant when controlling for x1 (Avgindustry EBITDA margin) and x2(linear PO-servitization) (ß = - .0036, p < .05). However, it could still be that my curvilinear model is not a better predictor than just a regular linear model.  "
   ]
  },
  {
   "cell_type": "code",
   "execution_count": 92,
   "metadata": {},
   "outputs": [
    {
     "name": "stdout",
     "output_type": "stream",
     "text": [
      "0.014484970535496244 0.005484833280112511\n",
      "0.03539819376864761 0.02212385698564734\n"
     ]
    }
   ],
   "source": [
    "Xlin = dfEarly[['AvgIND_EBITDAmargn','PO_servitization']]\n",
    "Xlin= Xlin.to_numpy()\n",
    "y= dfEarly['Ebitda_Mrgn']\n",
    "model2 = sm.OLS(y, sm.add_constant(Xlin)).fit()\n",
    "print(model2.rsquared, model2.rsquared_adj)\n",
    "print(model.rsquared, model.rsquared_adj) #computing R-squared values for linear and curvilinear model"
   ]
  },
  {
   "cell_type": "markdown",
   "metadata": {},
   "source": [
    "The adjusted R-square of my curvilinear model is higher than the adjusted R-square of my linear model, therefore I may conclude that my curvilinear model is a signicantly better predictor than the linear model. Thus, H1 is supported. There is an inverted U shape relationship between PO-servitization and firm perfomance for companies in the early industry lifecycle phase. "
   ]
  },
  {
   "cell_type": "code",
   "execution_count": 93,
   "metadata": {},
   "outputs": [
    {
     "data": {
      "text/plain": [
       "const    12.634787\n",
       "x1        0.233305\n",
       "x2       -0.003946\n",
       "dtype: float64"
      ]
     },
     "execution_count": 93,
     "metadata": {},
     "output_type": "execute_result"
    }
   ],
   "source": [
    "X = dfEarly[['PO_servitization','PO_SQRDservitization']]\n",
    "X= X.to_numpy()\n",
    "y= dfEarly['Ebitda_Mrgn']\n",
    "modelVisual = sm.OLS(y, sm.add_constant(X)).fit()\n",
    "modelVisual.params #getting the parameters of the curvilinear model without the AvgIND_EBITDAmargn as control variable, in order to get a smooth model for visualization. "
   ]
  },
  {
   "cell_type": "code",
   "execution_count": 94,
   "metadata": {},
   "outputs": [
    {
     "name": "stderr",
     "output_type": "stream",
     "text": [
      "<ipython-input-94-b042bdbe7bba>:1: SettingWithCopyWarning: \n",
      "A value is trying to be set on a copy of a slice from a DataFrame.\n",
      "Try using .loc[row_indexer,col_indexer] = value instead\n",
      "\n",
      "See the caveats in the documentation: https://pandas.pydata.org/pandas-docs/stable/user_guide/indexing.html#returning-a-view-versus-a-copy\n",
      "  dfEarly['yPredict'] = 11.357963+0.233305*dfEarly['PO_servitization']-0.003946*(dfEarly['PO_servitization']**2) # predicting y values with my visualization model\n"
     ]
    }
   ],
   "source": [
    "dfEarly['yPredict'] = 11.357963+0.233305*dfEarly['PO_servitization']-0.003946*(dfEarly['PO_servitization']**2) # predicting y values with my linear model"
   ]
  },
  {
   "cell_type": "code",
   "execution_count": 95,
   "metadata": {},
   "outputs": [],
   "source": [
    "Ebitda_Mrgn = dfEarly['Ebitda_Mrgn']\n",
    "x = dfEarly['PO_servitization']\n",
    "y = dfEarly['yPredict']\n",
    "x2,y2 = zip(*sorted(zip(x,y),key=lambda x: x[0])) # creating variables for plotting a smooth line through the predicted values of my model. "
   ]
  },
  {
   "cell_type": "code",
   "execution_count": 96,
   "metadata": {},
   "outputs": [
    {
     "data": {
      "text/plain": [
       "Text(0.5, 1.0, 'model visualization')"
      ]
     },
     "execution_count": 96,
     "metadata": {},
     "output_type": "execute_result"
    },
    {
     "data": {
      "image/png": "[encoded data removed]",
      "text/plain": [
       "<Figure size 2160x720 with 1 Axes>"
      ]
     },
     "metadata": {
      "needs_background": "light"
     },
     "output_type": "display_data"
    }
   ],
   "source": [
    "plt.figure(figsize=(30,10))\n",
    "plt.plot(x2,y2, color= \"black\",)\n",
    "plt.plot(x2, Ebitda_Mrgn, \".\", color='red')\n",
    "plt.xlabel(\"PO_Servitization\")\n",
    "plt.ylabel(\"EBITDA margin\")\n",
    "plt.title(\"model visualization\") #visualizing my model as a line plot and the true datapoints as a scatterplot."
   ]
  },
  {
   "cell_type": "markdown",
   "metadata": {},
   "source": [
    "The graph shows that my model does indeed visualize a negative curvilinear relationship between PO-servitization and firm performance(EBITDA margin) in the early industry lifecycle phase. It seems that companies are likely to benefit from product oriented services until more than 30-40% of their revenues are coming from product-oriented services. "
   ]
  },
  {
   "cell_type": "markdown",
   "metadata": {},
   "source": [
    "#### H2a"
   ]
  },
  {
   "cell_type": "code",
   "execution_count": 97,
   "metadata": {},
   "outputs": [
    {
     "data": {
      "text/html": [
       "<table class=\"simpletable\">\n",
       "<caption>OLS Regression Results</caption>\n",
       "<tr>\n",
       "  <th>Dep. Variable:</th>       <td>Ebitda_Mrgn</td>   <th>  R-squared:         </th> <td>   0.137</td>\n",
       "</tr>\n",
       "<tr>\n",
       "  <th>Model:</th>                   <td>OLS</td>       <th>  Adj. R-squared:    </th> <td>   0.132</td>\n",
       "</tr>\n",
       "<tr>\n",
       "  <th>Method:</th>             <td>Least Squares</td>  <th>  F-statistic:       </th> <td>   30.79</td>\n",
       "</tr>\n",
       "<tr>\n",
       "  <th>Date:</th>             <td>Fri, 18 Dec 2020</td> <th>  Prob (F-statistic):</th> <td>3.85e-13</td>\n",
       "</tr>\n",
       "<tr>\n",
       "  <th>Time:</th>                 <td>15:16:21</td>     <th>  Log-Likelihood:    </th> <td> -1436.0</td>\n",
       "</tr>\n",
       "<tr>\n",
       "  <th>No. Observations:</th>      <td>   392</td>      <th>  AIC:               </th> <td>   2878.</td>\n",
       "</tr>\n",
       "<tr>\n",
       "  <th>Df Residuals:</th>          <td>   389</td>      <th>  BIC:               </th> <td>   2890.</td>\n",
       "</tr>\n",
       "<tr>\n",
       "  <th>Df Model:</th>              <td>     2</td>      <th>                     </th>     <td> </td>   \n",
       "</tr>\n",
       "<tr>\n",
       "  <th>Covariance Type:</th>      <td>nonrobust</td>    <th>                     </th>     <td> </td>   \n",
       "</tr>\n",
       "</table>\n",
       "<table class=\"simpletable\">\n",
       "<tr>\n",
       "    <td></td>       <th>coef</th>     <th>std err</th>      <th>t</th>      <th>P>|t|</th>  <th>[0.025</th>    <th>0.975]</th>  \n",
       "</tr>\n",
       "<tr>\n",
       "  <th>const</th> <td>    6.9374</td> <td>    1.095</td> <td>    6.335</td> <td> 0.000</td> <td>    4.785</td> <td>    9.090</td>\n",
       "</tr>\n",
       "<tr>\n",
       "  <th>x1</th>    <td>    0.4546</td> <td>    0.061</td> <td>    7.476</td> <td> 0.000</td> <td>    0.335</td> <td>    0.574</td>\n",
       "</tr>\n",
       "<tr>\n",
       "  <th>x2</th>    <td>   -0.0809</td> <td>    0.026</td> <td>   -3.117</td> <td> 0.002</td> <td>   -0.132</td> <td>   -0.030</td>\n",
       "</tr>\n",
       "</table>\n",
       "<table class=\"simpletable\">\n",
       "<tr>\n",
       "  <th>Omnibus:</th>       <td> 6.516</td> <th>  Durbin-Watson:     </th> <td>   0.751</td>\n",
       "</tr>\n",
       "<tr>\n",
       "  <th>Prob(Omnibus):</th> <td> 0.038</td> <th>  Jarque-Bera (JB):  </th> <td>   6.562</td>\n",
       "</tr>\n",
       "<tr>\n",
       "  <th>Skew:</th>          <td>-0.251</td> <th>  Prob(JB):          </th> <td>  0.0376</td>\n",
       "</tr>\n",
       "<tr>\n",
       "  <th>Kurtosis:</th>      <td> 3.386</td> <th>  Cond. No.          </th> <td>    61.0</td>\n",
       "</tr>\n",
       "</table><br/><br/>Warnings:<br/>[1] Standard Errors assume that the covariance matrix of the errors is correctly specified."
      ],
      "text/plain": [
       "<class 'statsmodels.iolib.summary.Summary'>\n",
       "\"\"\"\n",
       "                            OLS Regression Results                            \n",
       "==============================================================================\n",
       "Dep. Variable:            Ebitda_Mrgn   R-squared:                       0.137\n",
       "Model:                            OLS   Adj. R-squared:                  0.132\n",
       "Method:                 Least Squares   F-statistic:                     30.79\n",
       "Date:                Fri, 18 Dec 2020   Prob (F-statistic):           3.85e-13\n",
       "Time:                        15:16:21   Log-Likelihood:                -1436.0\n",
       "No. Observations:                 392   AIC:                             2878.\n",
       "Df Residuals:                     389   BIC:                             2890.\n",
       "Df Model:                           2                                         \n",
       "Covariance Type:            nonrobust                                         \n",
       "==============================================================================\n",
       "                 coef    std err          t      P>|t|      [0.025      0.975]\n",
       "------------------------------------------------------------------------------\n",
       "const          6.9374      1.095      6.335      0.000       4.785       9.090\n",
       "x1             0.4546      0.061      7.476      0.000       0.335       0.574\n",
       "x2            -0.0809      0.026     -3.117      0.002      -0.132      -0.030\n",
       "==============================================================================\n",
       "Omnibus:                        6.516   Durbin-Watson:                   0.751\n",
       "Prob(Omnibus):                  0.038   Jarque-Bera (JB):                6.562\n",
       "Skew:                          -0.251   Prob(JB):                       0.0376\n",
       "Kurtosis:                       3.386   Cond. No.                         61.0\n",
       "==============================================================================\n",
       "\n",
       "Warnings:\n",
       "[1] Standard Errors assume that the covariance matrix of the errors is correctly specified.\n",
       "\"\"\""
      ]
     },
     "execution_count": 97,
     "metadata": {},
     "output_type": "execute_result"
    }
   ],
   "source": [
    "X = dfMature[['AvgIND_EBITDAmargn','PO_servitization']]\n",
    "X= X.to_numpy()\n",
    "y= dfMature['Ebitda_Mrgn']\n",
    "model = sm.OLS(y, sm.add_constant(X)).fit()\n",
    "model.summary() #testing H2a, assuming a negative linear relationship between PO-servitization and firm performance(EBITDA_Mrgn) in the mature industry lifecycle.\n"
   ]
  },
  {
   "cell_type": "markdown",
   "metadata": {},
   "source": [
    "#### X2 (the PO-servitization feature) indicates that a negative linear relationship is existent and significant when controlling for x1 (AvgIND_EBITDAmargn) (ß = - 0.0809, p < .01). However, it could still be that my linear model is not a better predictor than a curvilinear model."
   ]
  },
  {
   "cell_type": "code",
   "execution_count": 98,
   "metadata": {},
   "outputs": [
    {
     "name": "stdout",
     "output_type": "stream",
     "text": [
      "0.1387109949429094 0.13205154387288032\n",
      "0.1366762373990833 0.13223755481501687\n"
     ]
    }
   ],
   "source": [
    "Xcurve = dfMature[['AvgIND_EBITDAmargn','PO_servitization', 'PO_SQRDservitization']]\n",
    "Xcurve= Xcurve.to_numpy()\n",
    "y= dfMature['Ebitda_Mrgn']\n",
    "model2 = sm.OLS(y, sm.add_constant(Xcurve)).fit()\n",
    "print(model2.rsquared, model2.rsquared_adj)\n",
    "print(model.rsquared, model.rsquared_adj) #computing R-squared values for linear and curvilinear model"
   ]
  },
  {
   "cell_type": "markdown",
   "metadata": {},
   "source": [
    "The adjusted R-square of my linear model is higher than the adjusted R-square of my curvilinear model, therefore I may conclude that my curvilinear model is a signicantly better predictor than the linear model. Thus, H2a is supported. There is a negative linear relationship between PO-servitization and firm perfomance for companies in the mature industry lifecycle phase."
   ]
  },
  {
   "cell_type": "code",
   "execution_count": 99,
   "metadata": {},
   "outputs": [
    {
     "data": {
      "text/plain": [
       "const    13.729592\n",
       "x1       -0.061620\n",
       "dtype: float64"
      ]
     },
     "execution_count": 99,
     "metadata": {},
     "output_type": "execute_result"
    }
   ],
   "source": [
    "X = dfMature[['PO_servitization']]\n",
    "X= X.to_numpy()\n",
    "y= dfMature['Ebitda_Mrgn']\n",
    "modelVisual = sm.OLS(y, sm.add_constant(X)).fit()\n",
    "modelVisual.params #getting the parameters of a linear model without the AvgIND_EBITDAmargn as control variable, in order to get a smooth model for visualization. "
   ]
  },
  {
   "cell_type": "code",
   "execution_count": 100,
   "metadata": {},
   "outputs": [
    {
     "name": "stderr",
     "output_type": "stream",
     "text": [
      "<ipython-input-100-db4c49af1874>:1: SettingWithCopyWarning: \n",
      "A value is trying to be set on a copy of a slice from a DataFrame.\n",
      "Try using .loc[row_indexer,col_indexer] = value instead\n",
      "\n",
      "See the caveats in the documentation: https://pandas.pydata.org/pandas-docs/stable/user_guide/indexing.html#returning-a-view-versus-a-copy\n",
      "  dfMature['yPredict'] = 13.729592-0.061620*dfMature['PO_servitization'] #predicting the y values with my linear model for visualization\n"
     ]
    }
   ],
   "source": [
    "dfMature['yPredict'] = 13.729592-0.061620*dfMature['PO_servitization'] #predicting the y values with my linear model for visualization "
   ]
  },
  {
   "cell_type": "code",
   "execution_count": 101,
   "metadata": {},
   "outputs": [],
   "source": [
    "Ebitda_Mrgn = dfMature['Ebitda_Mrgn']\n",
    "x = dfMature['PO_servitization']\n",
    "y = dfMature['yPredict']\n",
    "x2,y2 = zip(*sorted(zip(x,y),key=lambda x: x[0])) #creating variables for plotting a smooth line through the predicted values of my model."
   ]
  },
  {
   "cell_type": "code",
   "execution_count": 102,
   "metadata": {},
   "outputs": [
    {
     "data": {
      "text/plain": [
       "Text(0.5, 1.0, 'model visualization')"
      ]
     },
     "execution_count": 102,
     "metadata": {},
     "output_type": "execute_result"
    },
    {
     "data": {
      "image/png": "[encoded data removed]",
      "text/plain": [
       "<Figure size 2160x720 with 1 Axes>"
      ]
     },
     "metadata": {
      "needs_background": "light"
     },
     "output_type": "display_data"
    }
   ],
   "source": [
    "plt.figure(figsize=(30,10))\n",
    "plt.plot(x2,y2, color= \"black\",)\n",
    "plt.plot(x, Ebitda_Mrgn, \".\", color='red')\n",
    "plt.xlabel(\"PO servitization\")\n",
    "plt.ylabel(\"EBITDA margin\")\n",
    "plt.title(\"model visualization\") #visualizing my model as a line plot and the true datapoints as a scatterplot."
   ]
  },
  {
   "cell_type": "markdown",
   "metadata": {},
   "source": [
    "The graph shows that my model does indeed visualize a negative linear realtionship between PO-servitization and firm performance(EBITDA margin) in the mature industry lifecycle phase. It seems that companies in a mature industry are not likely to get any benefits when offering product-oriented services. "
   ]
  },
  {
   "cell_type": "markdown",
   "metadata": {},
   "source": [
    "#### H2b"
   ]
  },
  {
   "cell_type": "code",
   "execution_count": 103,
   "metadata": {},
   "outputs": [],
   "source": [
    "dfMatureCO = dfMature[~(dfMature['DummyCOserv'] < 1)] # removing companies that have not reported CO-services in the past 8 years."
   ]
  },
  {
   "cell_type": "code",
   "execution_count": 104,
   "metadata": {},
   "outputs": [
    {
     "data": {
      "text/html": [
       "<table class=\"simpletable\">\n",
       "<caption>OLS Regression Results</caption>\n",
       "<tr>\n",
       "  <th>Dep. Variable:</th>       <td>Ebitda_Mrgn</td>   <th>  R-squared:         </th> <td>   0.112</td>\n",
       "</tr>\n",
       "<tr>\n",
       "  <th>Model:</th>                   <td>OLS</td>       <th>  Adj. R-squared:    </th> <td>   0.096</td>\n",
       "</tr>\n",
       "<tr>\n",
       "  <th>Method:</th>             <td>Least Squares</td>  <th>  F-statistic:       </th> <td>   7.136</td>\n",
       "</tr>\n",
       "<tr>\n",
       "  <th>Date:</th>             <td>Fri, 18 Dec 2020</td> <th>  Prob (F-statistic):</th> <td>0.000153</td>\n",
       "</tr>\n",
       "<tr>\n",
       "  <th>Time:</th>                 <td>15:16:23</td>     <th>  Log-Likelihood:    </th> <td> -611.80</td>\n",
       "</tr>\n",
       "<tr>\n",
       "  <th>No. Observations:</th>      <td>   174</td>      <th>  AIC:               </th> <td>   1232.</td>\n",
       "</tr>\n",
       "<tr>\n",
       "  <th>Df Residuals:</th>          <td>   170</td>      <th>  BIC:               </th> <td>   1244.</td>\n",
       "</tr>\n",
       "<tr>\n",
       "  <th>Df Model:</th>              <td>     3</td>      <th>                     </th>     <td> </td>   \n",
       "</tr>\n",
       "<tr>\n",
       "  <th>Covariance Type:</th>      <td>nonrobust</td>    <th>                     </th>     <td> </td>   \n",
       "</tr>\n",
       "</table>\n",
       "<table class=\"simpletable\">\n",
       "<tr>\n",
       "    <td></td>       <th>coef</th>     <th>std err</th>      <th>t</th>      <th>P>|t|</th>  <th>[0.025</th>    <th>0.975]</th>  \n",
       "</tr>\n",
       "<tr>\n",
       "  <th>const</th> <td>    5.7133</td> <td>    1.571</td> <td>    3.637</td> <td> 0.000</td> <td>    2.612</td> <td>    8.815</td>\n",
       "</tr>\n",
       "<tr>\n",
       "  <th>x1</th>    <td>    0.3720</td> <td>    0.095</td> <td>    3.923</td> <td> 0.000</td> <td>    0.185</td> <td>    0.559</td>\n",
       "</tr>\n",
       "<tr>\n",
       "  <th>x2</th>    <td>    0.3879</td> <td>    0.203</td> <td>    1.910</td> <td> 0.058</td> <td>   -0.013</td> <td>    0.789</td>\n",
       "</tr>\n",
       "<tr>\n",
       "  <th>x3</th>    <td>   -0.0130</td> <td>    0.006</td> <td>   -2.158</td> <td> 0.032</td> <td>   -0.025</td> <td>   -0.001</td>\n",
       "</tr>\n",
       "</table>\n",
       "<table class=\"simpletable\">\n",
       "<tr>\n",
       "  <th>Omnibus:</th>       <td>12.446</td> <th>  Durbin-Watson:     </th> <td>   0.779</td>\n",
       "</tr>\n",
       "<tr>\n",
       "  <th>Prob(Omnibus):</th> <td> 0.002</td> <th>  Jarque-Bera (JB):  </th> <td>  18.263</td>\n",
       "</tr>\n",
       "<tr>\n",
       "  <th>Skew:</th>          <td> 0.418</td> <th>  Prob(JB):          </th> <td>0.000108</td>\n",
       "</tr>\n",
       "<tr>\n",
       "  <th>Kurtosis:</th>      <td> 4.349</td> <th>  Cond. No.          </th> <td>    850.</td>\n",
       "</tr>\n",
       "</table><br/><br/>Warnings:<br/>[1] Standard Errors assume that the covariance matrix of the errors is correctly specified."
      ],
      "text/plain": [
       "<class 'statsmodels.iolib.summary.Summary'>\n",
       "\"\"\"\n",
       "                            OLS Regression Results                            \n",
       "==============================================================================\n",
       "Dep. Variable:            Ebitda_Mrgn   R-squared:                       0.112\n",
       "Model:                            OLS   Adj. R-squared:                  0.096\n",
       "Method:                 Least Squares   F-statistic:                     7.136\n",
       "Date:                Fri, 18 Dec 2020   Prob (F-statistic):           0.000153\n",
       "Time:                        15:16:23   Log-Likelihood:                -611.80\n",
       "No. Observations:                 174   AIC:                             1232.\n",
       "Df Residuals:                     170   BIC:                             1244.\n",
       "Df Model:                           3                                         \n",
       "Covariance Type:            nonrobust                                         \n",
       "==============================================================================\n",
       "                 coef    std err          t      P>|t|      [0.025      0.975]\n",
       "------------------------------------------------------------------------------\n",
       "const          5.7133      1.571      3.637      0.000       2.612       8.815\n",
       "x1             0.3720      0.095      3.923      0.000       0.185       0.559\n",
       "x2             0.3879      0.203      1.910      0.058      -0.013       0.789\n",
       "x3            -0.0130      0.006     -2.158      0.032      -0.025      -0.001\n",
       "==============================================================================\n",
       "Omnibus:                       12.446   Durbin-Watson:                   0.779\n",
       "Prob(Omnibus):                  0.002   Jarque-Bera (JB):               18.263\n",
       "Skew:                           0.418   Prob(JB):                     0.000108\n",
       "Kurtosis:                       4.349   Cond. No.                         850.\n",
       "==============================================================================\n",
       "\n",
       "Warnings:\n",
       "[1] Standard Errors assume that the covariance matrix of the errors is correctly specified.\n",
       "\"\"\""
      ]
     },
     "execution_count": 104,
     "metadata": {},
     "output_type": "execute_result"
    }
   ],
   "source": [
    "X = dfMatureCO[['AvgIND_EBITDAmargn','CO_servitization','CO_SQRDservitization']]\n",
    "X= X.to_numpy()\n",
    "y= dfMatureCO['Ebitda_Mrgn']\n",
    "model = sm.OLS(y, sm.add_constant(X)).fit()\n",
    "model.summary() #Testing H2b, assuming a negative curvilinear relationship between CO-servitization and firm performance(EBITDA_Mrgn) in the mature industry lifecycle. "
   ]
  },
  {
   "cell_type": "markdown",
   "metadata": {},
   "source": [
    "#### X3 (the squared CO-servitization feature) indicates that a negative curvilinear relationship between CO-servitization and firm performance(Ebitda margin) is existent and significant when controlling for x1 (Avgindustry EBITDA margin) and x2(linear CO-servitization) (ß = - 0.0130, p < .05). However, it could still be that my curvilinear model is not a better predictor than a linear model."
   ]
  },
  {
   "cell_type": "code",
   "execution_count": 105,
   "metadata": {},
   "outputs": [
    {
     "name": "stdout",
     "output_type": "stream",
     "text": [
      "0.08751026651768223 0.07683787197402925\n",
      "0.11184355945960933 0.09617021050889663\n"
     ]
    }
   ],
   "source": [
    "Xlin = dfMatureCO[['AvgIND_EBITDAmargn','CO_servitization']]\n",
    "Xlin= Xlin.to_numpy()\n",
    "y= dfMatureCO['Ebitda_Mrgn']\n",
    "model2 = sm.OLS(y, sm.add_constant(Xlin)).fit()\n",
    "print(model2.rsquared, model2.rsquared_adj)\n",
    "print(model.rsquared, model.rsquared_adj) #computing R-squared values for linear and curvilinear model"
   ]
  },
  {
   "cell_type": "markdown",
   "metadata": {},
   "source": [
    "The adjusted R-square of my curvilinear model is higher than the adjusted R-square of my linear model, therefore I may conclude that my curvilinear model is a signicantly better predictor than the linear model. Thus, H2b is supported. There is a negative curvilinear relationship (inverted-U) between CO-servitization and firm perfomance for companies in the mature industry lifecycle phase."
   ]
  },
  {
   "cell_type": "code",
   "execution_count": 106,
   "metadata": {},
   "outputs": [
    {
     "data": {
      "text/plain": [
       "const    10.320485\n",
       "x1        0.491300\n",
       "x2       -0.013276\n",
       "dtype: float64"
      ]
     },
     "execution_count": 106,
     "metadata": {},
     "output_type": "execute_result"
    }
   ],
   "source": [
    "X = dfMatureCO[['CO_servitization','CO_SQRDservitization']]\n",
    "X= X.to_numpy()\n",
    "y= dfMatureCO['Ebitda_Mrgn']\n",
    "modelVisual = sm.OLS(y, sm.add_constant(X)).fit()\n",
    "modelVisual.params #getting the parameters of a curvilinear model without the AvgIND_EBITDAmargn as control variable, in order to get a smooth model for visualization. "
   ]
  },
  {
   "cell_type": "code",
   "execution_count": 107,
   "metadata": {},
   "outputs": [
    {
     "name": "stderr",
     "output_type": "stream",
     "text": [
      "<ipython-input-107-514e1163c8d8>:1: SettingWithCopyWarning: \n",
      "A value is trying to be set on a copy of a slice from a DataFrame.\n",
      "Try using .loc[row_indexer,col_indexer] = value instead\n",
      "\n",
      "See the caveats in the documentation: https://pandas.pydata.org/pandas-docs/stable/user_guide/indexing.html#returning-a-view-versus-a-copy\n",
      "  dfMatureCO['yPredict'] = 10.320485+0.491300*dfMatureCO['CO_servitization']-0.013276*(dfMatureCO['CO_servitization']**2)\n"
     ]
    }
   ],
   "source": [
    "dfMatureCO['yPredict'] = 10.320485+0.491300*dfMatureCO['CO_servitization']-0.013276*(dfMatureCO['CO_servitization']**2) \n",
    "#predicting the y values with my curvilinear model."
   ]
  },
  {
   "cell_type": "code",
   "execution_count": 108,
   "metadata": {},
   "outputs": [],
   "source": [
    "Ebitda_Mrgn = dfMatureCO['Ebitda_Mrgn']\n",
    "x = dfMatureCO['CO_servitization']\n",
    "y = dfMatureCO['yPredict']\n",
    "x2,y2 = zip(*sorted(zip(x,y),key=lambda x: x[0])) #creating variables for plotting a smooth line through the predicted values of my model."
   ]
  },
  {
   "cell_type": "code",
   "execution_count": 109,
   "metadata": {},
   "outputs": [
    {
     "data": {
      "text/plain": [
       "Text(0.5, 1.0, 'model visualization')"
      ]
     },
     "execution_count": 109,
     "metadata": {},
     "output_type": "execute_result"
    },
    {
     "data": {
      "image/png": "[encoded data removed]",
      "text/plain": [
       "<Figure size 2160x720 with 1 Axes>"
      ]
     },
     "metadata": {
      "needs_background": "light"
     },
     "output_type": "display_data"
    }
   ],
   "source": [
    "plt.figure(figsize=(30,10))\n",
    "plt.plot(x2,y2, color= \"black\",)\n",
    "plt.plot(x, Ebitda_Mrgn, \".\", color='red')\n",
    "plt.xlabel('CO servitization')\n",
    "plt.ylabel('EBITDA margin')\n",
    "plt.title('model visualization') #visualizing my model as a line plot and the true datapoints as a scatterplot."
   ]
  },
  {
   "cell_type": "markdown",
   "metadata": {},
   "source": [
    "The graph shows that my model does indeed visualize a negative curvilinear relationship(inverted-U) between CO-servitization and firm performance(EBITDA margin) in the mature industry lifecycle phase. It seems that companies in the mature industries are likely to benefit from customer-oriented services until more than 20-25% of their revenues are coming from customer-oriented services. "
   ]
  },
  {
   "cell_type": "markdown",
   "metadata": {},
   "source": [
    "### H3"
   ]
  },
  {
   "cell_type": "code",
   "execution_count": 110,
   "metadata": {},
   "outputs": [
    {
     "data": {
      "text/plain": [
       "60"
      ]
     },
     "execution_count": 110,
     "metadata": {},
     "output_type": "execute_result"
    }
   ],
   "source": [
    "df['PLC_Length'].isnull().sum() #counting missing values for PLC_Length"
   ]
  },
  {
   "cell_type": "code",
   "execution_count": 111,
   "metadata": {},
   "outputs": [],
   "source": [
    "df = df.dropna() #removing missing values for PLC_Length"
   ]
  },
  {
   "cell_type": "code",
   "execution_count": 112,
   "metadata": {},
   "outputs": [],
   "source": [
    "df['modVar'] = df['Gen_servitization']*df['PLC_Length'] # computing a moderation feature"
   ]
  },
  {
   "cell_type": "code",
   "execution_count": 113,
   "metadata": {},
   "outputs": [
    {
     "data": {
      "text/html": [
       "<table class=\"simpletable\">\n",
       "<caption>OLS Regression Results</caption>\n",
       "<tr>\n",
       "  <th>Dep. Variable:</th>       <td>Ebitda_Mrgn</td>   <th>  R-squared:         </th> <td>   0.015</td>\n",
       "</tr>\n",
       "<tr>\n",
       "  <th>Model:</th>                   <td>OLS</td>       <th>  Adj. R-squared:    </th> <td>   0.010</td>\n",
       "</tr>\n",
       "<tr>\n",
       "  <th>Method:</th>             <td>Least Squares</td>  <th>  F-statistic:       </th> <td>   2.813</td>\n",
       "</tr>\n",
       "<tr>\n",
       "  <th>Date:</th>             <td>Fri, 18 Dec 2020</td> <th>  Prob (F-statistic):</th>  <td>0.0388</td> \n",
       "</tr>\n",
       "<tr>\n",
       "  <th>Time:</th>                 <td>15:16:26</td>     <th>  Log-Likelihood:    </th> <td> -1907.4</td>\n",
       "</tr>\n",
       "<tr>\n",
       "  <th>No. Observations:</th>      <td>   543</td>      <th>  AIC:               </th> <td>   3823.</td>\n",
       "</tr>\n",
       "<tr>\n",
       "  <th>Df Residuals:</th>          <td>   539</td>      <th>  BIC:               </th> <td>   3840.</td>\n",
       "</tr>\n",
       "<tr>\n",
       "  <th>Df Model:</th>              <td>     3</td>      <th>                     </th>     <td> </td>   \n",
       "</tr>\n",
       "<tr>\n",
       "  <th>Covariance Type:</th>      <td>nonrobust</td>    <th>                     </th>     <td> </td>   \n",
       "</tr>\n",
       "</table>\n",
       "<table class=\"simpletable\">\n",
       "<tr>\n",
       "    <td></td>       <th>coef</th>     <th>std err</th>      <th>t</th>      <th>P>|t|</th>  <th>[0.025</th>    <th>0.975]</th>  \n",
       "</tr>\n",
       "<tr>\n",
       "  <th>const</th> <td>   10.0508</td> <td>    0.973</td> <td>   10.325</td> <td> 0.000</td> <td>    8.139</td> <td>   11.963</td>\n",
       "</tr>\n",
       "<tr>\n",
       "  <th>x1</th>    <td>    0.1589</td> <td>    0.058</td> <td>    2.754</td> <td> 0.006</td> <td>    0.046</td> <td>    0.272</td>\n",
       "</tr>\n",
       "<tr>\n",
       "  <th>x2</th>    <td>   -0.0002</td> <td>    0.001</td> <td>   -0.222</td> <td> 0.824</td> <td>   -0.002</td> <td>    0.002</td>\n",
       "</tr>\n",
       "<tr>\n",
       "  <th>x3</th>    <td>   -0.0007</td> <td>    0.004</td> <td>   -0.190</td> <td> 0.850</td> <td>   -0.008</td> <td>    0.006</td>\n",
       "</tr>\n",
       "</table>\n",
       "<table class=\"simpletable\">\n",
       "<tr>\n",
       "  <th>Omnibus:</th>       <td>11.588</td> <th>  Durbin-Watson:     </th> <td>   0.747</td>\n",
       "</tr>\n",
       "<tr>\n",
       "  <th>Prob(Omnibus):</th> <td> 0.003</td> <th>  Jarque-Bera (JB):  </th> <td>  17.368</td>\n",
       "</tr>\n",
       "<tr>\n",
       "  <th>Skew:</th>          <td>-0.162</td> <th>  Prob(JB):          </th> <td>0.000169</td>\n",
       "</tr>\n",
       "<tr>\n",
       "  <th>Kurtosis:</th>      <td> 3.814</td> <th>  Cond. No.          </th> <td>3.30e+03</td>\n",
       "</tr>\n",
       "</table><br/><br/>Warnings:<br/>[1] Standard Errors assume that the covariance matrix of the errors is correctly specified.<br/>[2] The condition number is large, 3.3e+03. This might indicate that there are<br/>strong multicollinearity or other numerical problems."
      ],
      "text/plain": [
       "<class 'statsmodels.iolib.summary.Summary'>\n",
       "\"\"\"\n",
       "                            OLS Regression Results                            \n",
       "==============================================================================\n",
       "Dep. Variable:            Ebitda_Mrgn   R-squared:                       0.015\n",
       "Model:                            OLS   Adj. R-squared:                  0.010\n",
       "Method:                 Least Squares   F-statistic:                     2.813\n",
       "Date:                Fri, 18 Dec 2020   Prob (F-statistic):             0.0388\n",
       "Time:                        15:16:26   Log-Likelihood:                -1907.4\n",
       "No. Observations:                 543   AIC:                             3823.\n",
       "Df Residuals:                     539   BIC:                             3840.\n",
       "Df Model:                           3                                         \n",
       "Covariance Type:            nonrobust                                         \n",
       "==============================================================================\n",
       "                 coef    std err          t      P>|t|      [0.025      0.975]\n",
       "------------------------------------------------------------------------------\n",
       "const         10.0508      0.973     10.325      0.000       8.139      11.963\n",
       "x1             0.1589      0.058      2.754      0.006       0.046       0.272\n",
       "x2            -0.0002      0.001     -0.222      0.824      -0.002       0.002\n",
       "x3            -0.0007      0.004     -0.190      0.850      -0.008       0.006\n",
       "==============================================================================\n",
       "Omnibus:                       11.588   Durbin-Watson:                   0.747\n",
       "Prob(Omnibus):                  0.003   Jarque-Bera (JB):               17.368\n",
       "Skew:                          -0.162   Prob(JB):                     0.000169\n",
       "Kurtosis:                       3.814   Cond. No.                     3.30e+03\n",
       "==============================================================================\n",
       "\n",
       "Warnings:\n",
       "[1] Standard Errors assume that the covariance matrix of the errors is correctly specified.\n",
       "[2] The condition number is large, 3.3e+03. This might indicate that there are\n",
       "strong multicollinearity or other numerical problems.\n",
       "\"\"\""
      ]
     },
     "execution_count": 113,
     "metadata": {},
     "output_type": "execute_result"
    }
   ],
   "source": [
    "X = df[['AvgIND_EBITDAmargn','Gen_SQRDservitization','modVar']]\n",
    "X= X.to_numpy()\n",
    "y= df['Ebitda_Mrgn']\n",
    "model = sm.OLS(y, sm.add_constant(X)).fit()\n",
    "model.summary() #Testing H3, assuming a moderation effect of PLC_length on the relationship between servitization and firm performance(EBITDA_Mrgn)."
   ]
  },
  {
   "cell_type": "markdown",
   "metadata": {},
   "source": [
    "#### X3 (moderation variable) indicates that a moderation effect of PLC_Length on the relationship between servitization and firm performance(Ebitda marign) is insignificant (ß = - 0.0007, p > .05).  "
   ]
  }
 ],
 "metadata": {
  "kernelspec": {
   "display_name": "Python 3",
   "language": "python",
   "name": "python3"
  },
  "language_info": {
   "codemirror_mode": {
    "name": "ipython",
    "version": 3
   },
   "file_extension": ".py",
   "mimetype": "text/x-python",
   "name": "python",
   "nbconvert_exporter": "python",
   "pygments_lexer": "ipython3",
   "version": "3.8.3"
  }
 },
 "nbformat": 4,
 "nbformat_minor": 4
}
